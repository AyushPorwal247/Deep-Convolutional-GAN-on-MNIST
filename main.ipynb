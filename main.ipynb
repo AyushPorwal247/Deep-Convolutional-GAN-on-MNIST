{
 "cells": [
  {
   "attachments": {},
   "cell_type": "markdown",
   "metadata": {},
   "source": [
    "Downloading and Importing Dependencies"
   ]
  },
  {
   "cell_type": "code",
   "execution_count": 1,
   "metadata": {},
   "outputs": [
    {
     "name": "stdout",
     "output_type": "stream",
     "text": [
      "Collecting imageio\n",
      "  Downloading imageio-2.28.1-py3-none-any.whl (3.4 MB)\n",
      "                                              0.0/3.4 MB ? eta -:--:--\n",
      "                                              0.0/3.4 MB ? eta -:--:--\n",
      "                                              0.0/3.4 MB ? eta -:--:--\n",
      "                                              0.0/3.4 MB ? eta -:--:--\n",
      "     -                                        0.1/3.4 MB 3.3 MB/s eta 0:00:01\n",
      "     -                                        0.1/3.4 MB 3.3 MB/s eta 0:00:01\n",
      "     --                                       0.2/3.4 MB 1.8 MB/s eta 0:00:02\n",
      "     ---                                      0.3/3.4 MB 1.8 MB/s eta 0:00:02\n",
      "     ----                                     0.4/3.4 MB 1.8 MB/s eta 0:00:02\n",
      "     ----                                     0.4/3.4 MB 1.8 MB/s eta 0:00:02\n",
      "     ------                                   0.5/3.4 MB 1.9 MB/s eta 0:00:02\n",
      "     -------                                  0.6/3.4 MB 1.9 MB/s eta 0:00:02\n",
      "     --------                                 0.8/3.4 MB 2.1 MB/s eta 0:00:02\n",
      "     ------------                             1.0/3.4 MB 2.4 MB/s eta 0:00:01\n",
      "     ------------                             1.0/3.4 MB 2.4 MB/s eta 0:00:01\n",
      "     ------------                             1.0/3.4 MB 2.4 MB/s eta 0:00:01\n",
      "     ------------                             1.0/3.4 MB 2.4 MB/s eta 0:00:01\n",
      "     ------------                             1.0/3.4 MB 2.4 MB/s eta 0:00:01\n",
      "     ------------                             1.0/3.4 MB 2.4 MB/s eta 0:00:01\n",
      "     ------------                             1.0/3.4 MB 2.4 MB/s eta 0:00:01\n",
      "     ---------------                          1.3/3.4 MB 1.6 MB/s eta 0:00:02\n",
      "     ---------------                          1.3/3.4 MB 1.6 MB/s eta 0:00:02\n",
      "     ---------------                          1.3/3.4 MB 1.6 MB/s eta 0:00:02\n",
      "     ---------------                          1.3/3.4 MB 1.4 MB/s eta 0:00:02\n",
      "     ---------------                          1.3/3.4 MB 1.4 MB/s eta 0:00:02\n",
      "     ---------------                          1.3/3.4 MB 1.4 MB/s eta 0:00:02\n",
      "     ---------------                          1.3/3.4 MB 1.4 MB/s eta 0:00:02\n",
      "     ---------------                          1.3/3.4 MB 1.4 MB/s eta 0:00:02\n",
      "     ---------------                          1.3/3.4 MB 1.4 MB/s eta 0:00:02\n",
      "     ---------------                          1.3/3.4 MB 1.4 MB/s eta 0:00:02\n",
      "     ---------------                          1.3/3.4 MB 1.4 MB/s eta 0:00:02\n",
      "     ---------------                          1.3/3.4 MB 1.4 MB/s eta 0:00:02\n",
      "     ---------------                          1.3/3.4 MB 1.4 MB/s eta 0:00:02\n",
      "     ---------------                          1.3/3.4 MB 1.4 MB/s eta 0:00:02\n",
      "     ----------------                         1.4/3.4 MB 1.0 MB/s eta 0:00:02\n",
      "     ----------------                         1.4/3.4 MB 1.0 MB/s eta 0:00:02\n",
      "     ----------------                         1.4/3.4 MB 1.0 MB/s eta 0:00:02\n",
      "     ----------------                         1.4/3.4 MB 1.0 MB/s eta 0:00:02\n",
      "     ----------------                         1.4/3.4 MB 1.0 MB/s eta 0:00:02\n",
      "     ------------------                       1.6/3.4 MB 967.8 kB/s eta 0:00:02\n",
      "     ------------------                       1.6/3.4 MB 967.8 kB/s eta 0:00:02\n",
      "     --------------------                     1.7/3.4 MB 992.1 kB/s eta 0:00:02\n",
      "     ----------------------                   1.9/3.4 MB 1.0 MB/s eta 0:00:02\n",
      "     -----------------------                  2.0/3.4 MB 1.1 MB/s eta 0:00:02\n",
      "     -------------------------                2.2/3.4 MB 1.1 MB/s eta 0:00:02\n",
      "     --------------------------               2.3/3.4 MB 1.2 MB/s eta 0:00:01\n",
      "     --------------------------               2.3/3.4 MB 1.2 MB/s eta 0:00:01\n",
      "     -----------------------------            2.4/3.4 MB 1.2 MB/s eta 0:00:01\n",
      "     ------------------------------           2.5/3.4 MB 1.2 MB/s eta 0:00:01\n",
      "     -------------------------------          2.6/3.4 MB 1.2 MB/s eta 0:00:01\n",
      "     -------------------------------          2.7/3.4 MB 1.2 MB/s eta 0:00:01\n",
      "     --------------------------------         2.7/3.4 MB 1.2 MB/s eta 0:00:01\n",
      "     --------------------------------         2.8/3.4 MB 1.2 MB/s eta 0:00:01\n",
      "     --------------------------------         2.8/3.4 MB 1.2 MB/s eta 0:00:01\n",
      "     --------------------------------         2.8/3.4 MB 1.2 MB/s eta 0:00:01\n",
      "     --------------------------------         2.8/3.4 MB 1.2 MB/s eta 0:00:01\n",
      "     ----------------------------------       2.9/3.4 MB 1.2 MB/s eta 0:00:01\n",
      "     -----------------------------------      3.0/3.4 MB 1.2 MB/s eta 0:00:01\n",
      "     ------------------------------------     3.1/3.4 MB 1.2 MB/s eta 0:00:01\n",
      "     -------------------------------------    3.1/3.4 MB 1.2 MB/s eta 0:00:01\n",
      "     --------------------------------------   3.2/3.4 MB 1.2 MB/s eta 0:00:01\n",
      "     --------------------------------------   3.3/3.4 MB 1.2 MB/s eta 0:00:01\n",
      "     --------------------------------------   3.3/3.4 MB 1.2 MB/s eta 0:00:01\n",
      "     --------------------------------------   3.3/3.4 MB 1.2 MB/s eta 0:00:01\n",
      "     --------------------------------------   3.3/3.4 MB 1.2 MB/s eta 0:00:01\n",
      "     --------------------------------------   3.3/3.4 MB 1.2 MB/s eta 0:00:01\n",
      "     --------------------------------------   3.3/3.4 MB 1.2 MB/s eta 0:00:01\n",
      "     ---------------------------------------  3.3/3.4 MB 1.1 MB/s eta 0:00:01\n",
      "     ---------------------------------------- 3.4/3.4 MB 1.1 MB/s eta 0:00:00\n",
      "Requirement already satisfied: numpy in c:\\users\\ayush\\appdata\\local\\programs\\python\\python311\\lib\\site-packages (from imageio) (1.23.5)\n",
      "Requirement already satisfied: pillow>=8.3.2 in c:\\users\\ayush\\appdata\\local\\programs\\python\\python311\\lib\\site-packages (from imageio) (9.4.0)\n",
      "Installing collected packages: imageio\n",
      "Successfully installed imageio-2.28.1\n",
      "Collecting git+https://github.com/tensorflow/docs\n",
      "  Cloning https://github.com/tensorflow/docs to c:\\users\\ayush\\appdata\\local\\temp\\pip-req-build-r1rembb2\n",
      "  Resolved https://github.com/tensorflow/docs to commit ba879887790ded183c04540d5386df4962f48eeb\n",
      "  Preparing metadata (setup.py): started\n",
      "  Preparing metadata (setup.py): finished with status 'done'\n",
      "Collecting astor (from tensorflow-docs==0.0.0.dev0)\n",
      "  Downloading astor-0.8.1-py2.py3-none-any.whl (27 kB)\n",
      "Requirement already satisfied: absl-py in c:\\users\\ayush\\appdata\\local\\programs\\python\\python311\\lib\\site-packages (from tensorflow-docs==0.0.0.dev0) (1.4.0)\n",
      "Requirement already satisfied: jinja2 in c:\\users\\ayush\\appdata\\local\\programs\\python\\python311\\lib\\site-packages (from tensorflow-docs==0.0.0.dev0) (3.1.2)\n",
      "Requirement already satisfied: nbformat in c:\\users\\ayush\\appdata\\local\\programs\\python\\python311\\lib\\site-packages (from tensorflow-docs==0.0.0.dev0) (5.7.1)\n",
      "Requirement already satisfied: protobuf>=3.12 in c:\\users\\ayush\\appdata\\local\\programs\\python\\python311\\lib\\site-packages (from tensorflow-docs==0.0.0.dev0) (4.22.4)\n",
      "Requirement already satisfied: pyyaml in c:\\users\\ayush\\appdata\\local\\programs\\python\\python311\\lib\\site-packages (from tensorflow-docs==0.0.0.dev0) (6.0)\n",
      "Requirement already satisfied: MarkupSafe>=2.0 in c:\\users\\ayush\\appdata\\local\\programs\\python\\python311\\lib\\site-packages (from jinja2->tensorflow-docs==0.0.0.dev0) (2.1.1)\n",
      "Requirement already satisfied: fastjsonschema in c:\\users\\ayush\\appdata\\local\\programs\\python\\python311\\lib\\site-packages (from nbformat->tensorflow-docs==0.0.0.dev0) (2.16.2)\n",
      "Requirement already satisfied: jsonschema>=2.6 in c:\\users\\ayush\\appdata\\local\\programs\\python\\python311\\lib\\site-packages (from nbformat->tensorflow-docs==0.0.0.dev0) (4.17.3)\n",
      "Requirement already satisfied: jupyter-core in c:\\users\\ayush\\appdata\\local\\programs\\python\\python311\\lib\\site-packages (from nbformat->tensorflow-docs==0.0.0.dev0) (5.1.1)\n",
      "Requirement already satisfied: traitlets>=5.1 in c:\\users\\ayush\\appdata\\local\\programs\\python\\python311\\lib\\site-packages (from nbformat->tensorflow-docs==0.0.0.dev0) (5.8.0)\n",
      "Requirement already satisfied: attrs>=17.4.0 in c:\\users\\ayush\\appdata\\local\\programs\\python\\python311\\lib\\site-packages (from jsonschema>=2.6->nbformat->tensorflow-docs==0.0.0.dev0) (22.2.0)\n",
      "Requirement already satisfied: pyrsistent!=0.17.0,!=0.17.1,!=0.17.2,>=0.14.0 in c:\\users\\ayush\\appdata\\local\\programs\\python\\python311\\lib\\site-packages (from jsonschema>=2.6->nbformat->tensorflow-docs==0.0.0.dev0) (0.19.2)\n",
      "Requirement already satisfied: platformdirs>=2.5 in c:\\users\\ayush\\appdata\\local\\programs\\python\\python311\\lib\\site-packages (from jupyter-core->nbformat->tensorflow-docs==0.0.0.dev0) (2.6.0)\n",
      "Requirement already satisfied: pywin32>=1.0 in c:\\users\\ayush\\appdata\\local\\programs\\python\\python311\\lib\\site-packages (from jupyter-core->nbformat->tensorflow-docs==0.0.0.dev0) (305)\n",
      "Building wheels for collected packages: tensorflow-docs\n",
      "  Building wheel for tensorflow-docs (setup.py): started\n",
      "  Building wheel for tensorflow-docs (setup.py): finished with status 'done'\n",
      "  Created wheel for tensorflow-docs: filename=tensorflow_docs-0.0.0.dev0-py3-none-any.whl size=184903 sha256=e23df214c6fed1cf30b92f856cbde4d858e60fa6f5d6ce5ac0ff70af6faa9d62\n",
      "  Stored in directory: C:\\Users\\ayush\\AppData\\Local\\Temp\\pip-ephem-wheel-cache-8tjjlmet\\wheels\\34\\53\\89\\3db54cf97ce0f0261aaab3fdc12a847ea0879d34edf373e2c5\n",
      "Successfully built tensorflow-docs\n",
      "Installing collected packages: astor, tensorflow-docs\n",
      "Successfully installed astor-0.8.1 tensorflow-docs-0.0.0.dev0\n"
     ]
    },
    {
     "name": "stderr",
     "output_type": "stream",
     "text": [
      "  Running command git clone --filter=blob:none --quiet https://github.com/tensorflow/docs 'C:\\Users\\ayush\\AppData\\Local\\Temp\\pip-req-build-r1rembb2'\n"
     ]
    }
   ],
   "source": [
    "# For generating GIF of result\n",
    "!pip install imageio\n",
    "!pip install git+https://github.com/tensorflow/docs "
   ]
  },
  {
   "cell_type": "code",
   "execution_count": 2,
   "metadata": {},
   "outputs": [],
   "source": [
    "# Importing required libraries\n",
    "import numpy as np\n",
    "import matplotlib.pyplot as plt\n",
    "import tensorflow as tf\n",
    "from tensorflow.keras import layers"
   ]
  },
  {
   "attachments": {},
   "cell_type": "markdown",
   "metadata": {},
   "source": [
    "Loading and Preparing Dataset"
   ]
  },
  {
   "cell_type": "code",
   "execution_count": 4,
   "metadata": {},
   "outputs": [],
   "source": [
    "#Loading Data\n",
    "(x_train, y_train), (_,_) = tf.keras.datasets.mnist.load_data()\n",
    "\n",
    "#Reshaping and Normalising training data\n",
    "x_train = x_train.reshape(x_train.shape[0], 28, 28, 1)\n",
    "#Normalising between [-1,1]\n",
    "x_train = (x_train-127.5)/127.5\n",
    "\n",
    "#Setting BATCH_SIZE and BUFFER_SIZE\n",
    "BUFFER_SIZE = 60000\n",
    "BATCH_SIZE = 256\n",
    "\n",
    "#Shuffling and dividing data in batches\n",
    "x_train_dataset = tf.data.Dataset.from_tensor_slices(x_train).shuffle(BUFFER_SIZE).batch(BATCH_SIZE)"
   ]
  },
  {
   "cell_type": "code",
   "execution_count": null,
   "metadata": {},
   "outputs": [],
   "source": []
  }
 ],
 "metadata": {
  "kernelspec": {
   "display_name": "Python 3",
   "language": "python",
   "name": "python3"
  },
  "language_info": {
   "codemirror_mode": {
    "name": "ipython",
    "version": 3
   },
   "file_extension": ".py",
   "mimetype": "text/x-python",
   "name": "python",
   "nbconvert_exporter": "python",
   "pygments_lexer": "ipython3",
   "version": "3.11.1"
  },
  "orig_nbformat": 4
 },
 "nbformat": 4,
 "nbformat_minor": 2
}
